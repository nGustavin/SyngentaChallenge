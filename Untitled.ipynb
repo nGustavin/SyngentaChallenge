{
 "cells": [
  {
   "cell_type": "code",
   "execution_count": 2,
   "id": "ab6faf8e-c16d-4f61-a246-2e347ebfba4b",
   "metadata": {},
   "outputs": [],
   "source": [
    "import cv2\n",
    "import numpy as np"
   ]
  },
  {
   "cell_type": "code",
   "execution_count": 3,
   "id": "bda58559-5b4f-48da-84ca-644596a0871a",
   "metadata": {},
   "outputs": [],
   "source": [
    "img = cv2.imread(\"Syngenta.bmp\")"
   ]
  },
  {
   "cell_type": "code",
   "execution_count": 4,
   "id": "0dc7cecf-56d3-4981-93c2-2cdefb6e617e",
   "metadata": {},
   "outputs": [],
   "source": [
    "hsv = cv2.cvtColor(img, cv2.COLOR_BGR2HSV)"
   ]
  },
  {
   "cell_type": "code",
   "execution_count": 5,
   "id": "49d0aa6a-2e81-4ba1-b866-8f66619bdb05",
   "metadata": {},
   "outputs": [],
   "source": [
    "lower_range = np.array([40, 40,40])\n",
    "upper_range = np.array([70, 255,255])"
   ]
  },
  {
   "cell_type": "code",
   "execution_count": 6,
   "id": "79030d3a-8c27-4788-826f-3d973b5ac184",
   "metadata": {},
   "outputs": [],
   "source": [
    "mask = cv2.inRange(hsv, lower_range, upper_range)"
   ]
  },
  {
   "cell_type": "code",
   "execution_count": 7,
   "id": "4f835bd0-42df-4c0f-b8e9-0ab965c9702b",
   "metadata": {},
   "outputs": [],
   "source": [
    "# cv2.imshow(\"Image\", img)\n",
    "# cv2.imshow(\"Mask\", mask)"
   ]
  },
  {
   "cell_type": "code",
   "execution_count": 12,
   "id": "be219c87-71c7-4516-8977-c9befd9be90d",
   "metadata": {},
   "outputs": [
    {
     "ename": "error",
     "evalue": "OpenCV(4.5.2) /tmp/pip-req-build-qxrf2chl/opencv/modules/core/src/lapack.cpp:851: error: (-215:Assertion failed) type == CV_32F || type == CV_64F in function 'invert'\n",
     "output_type": "error",
     "traceback": [
      "\u001b[0;31m---------------------------------------------------------------------------\u001b[0m",
      "\u001b[0;31merror\u001b[0m                                     Traceback (most recent call last)",
      "\u001b[0;32m<ipython-input-12-8584cef11140>\u001b[0m in \u001b[0;36m<module>\u001b[0;34m\u001b[0m\n\u001b[0;32m----> 1\u001b[0;31m \u001b[0mcv2\u001b[0m\u001b[0;34m.\u001b[0m\u001b[0minvert\u001b[0m\u001b[0;34m(\u001b[0m\u001b[0mimg\u001b[0m\u001b[0;34m)\u001b[0m\u001b[0;34m\u001b[0m\u001b[0;34m\u001b[0m\u001b[0m\n\u001b[0m",
      "\u001b[0;31merror\u001b[0m: OpenCV(4.5.2) /tmp/pip-req-build-qxrf2chl/opencv/modules/core/src/lapack.cpp:851: error: (-215:Assertion failed) type == CV_32F || type == CV_64F in function 'invert'\n"
     ]
    }
   ],
   "source": []
  },
  {
   "cell_type": "code",
   "execution_count": null,
   "id": "8596fc6f-21c5-4f62-9595-65aa43717cd3",
   "metadata": {},
   "outputs": [],
   "source": []
  }
 ],
 "metadata": {
  "kernelspec": {
   "display_name": "Python 3",
   "language": "python",
   "name": "python3"
  },
  "language_info": {
   "codemirror_mode": {
    "name": "ipython",
    "version": 3
   },
   "file_extension": ".py",
   "mimetype": "text/x-python",
   "name": "python",
   "nbconvert_exporter": "python",
   "pygments_lexer": "ipython3",
   "version": "3.9.4"
  }
 },
 "nbformat": 4,
 "nbformat_minor": 5
}
